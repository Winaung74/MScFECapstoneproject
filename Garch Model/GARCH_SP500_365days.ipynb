{
 "cells": [
  {
   "cell_type": "code",
   "execution_count": null,
   "metadata": {},
   "outputs": [],
   "source": [
    "import datetime as dt\n",
    "import sys\n",
    "\n",
    "import numpy as np\n",
    "import pandas as pd\n",
    "import pandas_datareader.data as web\n",
    "import matplotlib.pyplot as plt\n",
    "from arch import arch_model\n",
    "\n",
    "import yfinance as yf\n",
    "spy_df = yf.download('SPY', start='2019-04-30',end='2020-04-30',progress=False,auto_adjust=True)\n",
    "\n",
    "returns = 100 * spy_df['Close'].pct_change().dropna()\n",
    "returns.plot()\n",
    "plt.show()\n",
    "\n",
    "model=arch_model(returns, vol='Garch', p=1, o=0, q=1, dist='Normal')\n",
    "results=model.fit()\n",
    "print(results.summary())\n",
    "\n",
    "forecasts = results.forecast(horizon=30, method='simulation', simulations=1000)\n",
    "sims = forecasts.simulations\n",
    "\n",
    "lines = plt.plot(sims.values[-1,:,:].T, color='blue', alpha=0.05)\n",
    "lines[0].set_label('Simulated paths')\n",
    "plt.show()\n",
    "\n",
    "print(np.percentile(sims.values[-1,:,-1].T,5))\n",
    "plt.hist(sims.values[-1, :,-1],bins=50)\n",
    "plt.title('Distribution of Returns')\n",
    "plt.show()\n",
    "\n"
   ]
  },
  {
   "cell_type": "code",
   "execution_count": null,
   "metadata": {},
   "outputs": [],
   "source": []
  }
 ],
 "metadata": {
  "celltoolbar": "Slideshow",
  "kernelspec": {
   "display_name": "Python 3",
   "language": "python",
   "name": "python3"
  },
  "language_info": {
   "codemirror_mode": {
    "name": "ipython",
    "version": 3
   },
   "file_extension": ".py",
   "mimetype": "text/x-python",
   "name": "python",
   "nbconvert_exporter": "python",
   "pygments_lexer": "ipython3",
   "version": "3.6.4"
  }
 },
 "nbformat": 4,
 "nbformat_minor": 2
}
